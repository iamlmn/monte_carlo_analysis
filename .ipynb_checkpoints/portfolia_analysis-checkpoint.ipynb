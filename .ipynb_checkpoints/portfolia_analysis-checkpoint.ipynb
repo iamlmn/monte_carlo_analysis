{
 "cells": [
  {
   "cell_type": "code",
   "execution_count": 4,
   "metadata": {},
   "outputs": [
    {
     "name": "stdout",
     "output_type": "stream",
     "text": [
      "Collecting yfinance\n",
      "  Using cached https://files.pythonhosted.org/packages/c2/31/8b374a12b90def92a4e27d0fc595fc43635f395984e36a075244d98bd265/yfinance-0.1.54.tar.gz\n",
      "Requirement already satisfied: pandas>=0.24 in /usr/local/lib/python3.7/site-packages (from yfinance) (0.24.2)\n",
      "Requirement already satisfied: numpy>=1.15 in /usr/local/lib/python3.7/site-packages (from yfinance) (1.16.3)\n",
      "Requirement already satisfied: requests>=2.20 in /usr/local/lib/python3.7/site-packages (from yfinance) (2.22.0)\n",
      "Collecting multitasking>=0.0.7 (from yfinance)\n",
      "  Using cached https://files.pythonhosted.org/packages/69/e7/e9f1661c28f7b87abfa08cb0e8f51dad2240a9f4f741f02ea839835e6d18/multitasking-0.0.9.tar.gz\n",
      "Requirement already satisfied: python-dateutil>=2.5.0 in /Users/LMN/Library/Python/3.7/lib/python/site-packages (from pandas>=0.24->yfinance) (2.8.1)\n",
      "Requirement already satisfied: pytz>=2011k in /Users/LMN/Library/Python/3.7/lib/python/site-packages (from pandas>=0.24->yfinance) (2019.3)\n",
      "Requirement already satisfied: chardet<3.1.0,>=3.0.2 in /usr/local/lib/python3.7/site-packages (from requests>=2.20->yfinance) (3.0.4)\n",
      "Requirement already satisfied: idna<2.9,>=2.5 in /usr/local/lib/python3.7/site-packages (from requests>=2.20->yfinance) (2.8)\n",
      "Requirement already satisfied: urllib3!=1.25.0,!=1.25.1,<1.26,>=1.21.1 in /Users/LMN/Library/Python/3.7/lib/python/site-packages (from requests>=2.20->yfinance) (1.25.9)\n",
      "Requirement already satisfied: certifi>=2017.4.17 in /Users/LMN/Library/Python/3.7/lib/python/site-packages (from requests>=2.20->yfinance) (2020.4.5.1)\n",
      "Requirement already satisfied: six>=1.5 in /usr/local/lib/python3.7/site-packages (from python-dateutil>=2.5.0->pandas>=0.24->yfinance) (1.14.0)\n",
      "Building wheels for collected packages: yfinance, multitasking\n",
      "  Building wheel for yfinance (setup.py) ... \u001b[?25ldone\n",
      "\u001b[?25h  Stored in directory: /Users/LMN/Library/Caches/pip/wheels/f9/e3/5b/ec24dd2984b12d61e0abf26289746c2436a0e7844f26f2515c\n",
      "  Building wheel for multitasking (setup.py) ... \u001b[?25ldone\n",
      "\u001b[?25h  Stored in directory: /Users/LMN/Library/Caches/pip/wheels/37/fa/73/d492849e319038eb4d986f5152e4b19ffb1bc0639da84d2677\n",
      "Successfully built yfinance multitasking\n",
      "Installing collected packages: multitasking, yfinance\n",
      "Successfully installed multitasking-0.0.9 yfinance-0.1.54\n"
     ]
    }
   ],
   "source": [
    "!pip3 install yfinance"
   ]
  },
  {
   "cell_type": "code",
   "execution_count": 5,
   "metadata": {},
   "outputs": [],
   "source": [
    "import yfinance\n",
    "import pandas as pd\n",
    "import numpy as np\n",
    "\n",
    "import matplotlib.pyplot as plt"
   ]
  },
  {
   "cell_type": "code",
   "execution_count": 9,
   "metadata": {},
   "outputs": [],
   "source": [
    "portfolio_composition = [('MSFT',0.5),('AAPL',0.2),('GOOG',0.3)]\n",
    "returns = pd.DataFrame({})"
   ]
  },
  {
   "cell_type": "code",
   "execution_count": 10,
   "metadata": {},
   "outputs": [],
   "source": [
    "for t in portfolio_composition:\n",
    "  name = t[0]\n",
    "  ticker = yfinance.Ticker(name)\n",
    "  data = ticker.history(interval=\"1d\",start=\"2010-01-01\",end=\"2019-12-31\")\n",
    "  data['return_%s' % (name)] = data['Close'].pct_change(1)\n",
    "\n",
    "  returns = returns.join(data[['return_%s' % (name)]],how=\"outer\").dropna()"
   ]
  },
  {
   "cell_type": "code",
   "execution_count": 12,
   "metadata": {},
   "outputs": [],
   "source": [
    "\n",
    "def simulate_returns(historical_returns,forecast_days):\n",
    "  return historical_returns.sample(n = forecast_days, \n",
    "                                   replace = True).reset_index(drop = True)"
   ]
  },
  {
   "cell_type": "code",
   "execution_count": 13,
   "metadata": {},
   "outputs": [
    {
     "data": {
      "text/plain": [
       "0     -0.003064\n",
       "1     -0.000381\n",
       "2      0.004133\n",
       "3     -0.015436\n",
       "4      0.009123\n",
       "5      0.003347\n",
       "6     -0.002746\n",
       "7      0.006188\n",
       "8     -0.006881\n",
       "9     -0.009982\n",
       "10    -0.004195\n",
       "11     0.020405\n",
       "12    -0.008316\n",
       "13    -0.005871\n",
       "14     0.024374\n",
       "15     0.010111\n",
       "16     0.011346\n",
       "17    -0.008175\n",
       "18    -0.005641\n",
       "19     0.011906\n",
       "20    -0.002488\n",
       "21     0.009808\n",
       "22     0.017432\n",
       "23     0.002989\n",
       "24    -0.005328\n",
       "25     0.021335\n",
       "26     0.005774\n",
       "27     0.029412\n",
       "28    -0.007162\n",
       "29    -0.019699\n",
       "         ...   \n",
       "970    0.009098\n",
       "971    0.006217\n",
       "972   -0.011603\n",
       "973   -0.010316\n",
       "974    0.001722\n",
       "975    0.015276\n",
       "976    0.002001\n",
       "977    0.029920\n",
       "978    0.002816\n",
       "979   -0.033068\n",
       "980   -0.013679\n",
       "981    0.011211\n",
       "982    0.001859\n",
       "983    0.014399\n",
       "984    0.014138\n",
       "985    0.003647\n",
       "986   -0.032155\n",
       "987   -0.007764\n",
       "988    0.000317\n",
       "989    0.009808\n",
       "990   -0.001160\n",
       "991    0.004690\n",
       "992   -0.007718\n",
       "993   -0.020761\n",
       "994   -0.012070\n",
       "995    0.000000\n",
       "996   -0.000146\n",
       "997    0.000956\n",
       "998   -0.007559\n",
       "999   -0.003972\n",
       "Name: return_AAPL, Length: 1000, dtype: float64"
      ]
     },
     "execution_count": 13,
     "metadata": {},
     "output_type": "execute_result"
    }
   ],
   "source": [
    "\n",
    "simulate_returns(returns['return_AAPL'],1000)"
   ]
  },
  {
   "cell_type": "code",
   "execution_count": 14,
   "metadata": {},
   "outputs": [],
   "source": [
    "def simulate_portfolio(historical_returns,composition,forecast_days):\n",
    "  result = 0\n",
    "  for t in composition:\n",
    "    name,weight = t[0],t[1]\n",
    "    s = simulate_returns(historical_returns['return_%s' % (name)], forecast_days)\n",
    "    result = result + s * weight\n",
    "  \n",
    "  return(result)"
   ]
  },
  {
   "cell_type": "code",
   "execution_count": 15,
   "metadata": {},
   "outputs": [
    {
     "data": {
      "text/plain": [
       "0   -0.004642\n",
       "1    0.000305\n",
       "2    0.002757\n",
       "3    0.002859\n",
       "4    0.017170\n",
       "5    0.006735\n",
       "6    0.010303\n",
       "7    0.002298\n",
       "8    0.002749\n",
       "9    0.008662\n",
       "dtype: float64"
      ]
     },
     "execution_count": 15,
     "metadata": {},
     "output_type": "execute_result"
    }
   ],
   "source": [
    "simulate_portfolio(returns,portfolio_composition,10)"
   ]
  },
  {
   "cell_type": "code",
   "execution_count": 16,
   "metadata": {},
   "outputs": [],
   "source": [
    "def simulate_portfolio(historical_returns,composition,forecast_days):\n",
    "  result = 0\n",
    "  for t in composition:\n",
    "    name,weight = t[0],t[1]\n",
    "    s = simulate_returns(historical_returns['return_%s' % (name)], forecast_days)\n",
    "    result = result + s * weight\n",
    "  \n",
    "  return(result)"
   ]
  },
  {
   "cell_type": "code",
   "execution_count": 18,
   "metadata": {},
   "outputs": [
    {
     "data": {
      "text/plain": [
       "0    0.009495\n",
       "1   -0.002269\n",
       "2   -0.005619\n",
       "3    0.005034\n",
       "4   -0.001814\n",
       "5    0.006613\n",
       "6   -0.006327\n",
       "7    0.000529\n",
       "8    0.004477\n",
       "9   -0.000421\n",
       "dtype: float64"
      ]
     },
     "execution_count": 18,
     "metadata": {},
     "output_type": "execute_result"
    }
   ],
   "source": [
    "simulate_portfolio(returns,portfolio_composition,10)"
   ]
  },
  {
   "cell_type": "code",
   "execution_count": 19,
   "metadata": {},
   "outputs": [],
   "source": [
    "def simulate_modified_returns(historical_returns,forecast_days,correct_mean_by):\n",
    "  h = historical_returns.copy()\n",
    "\n",
    "  new_series = h + correct_mean_by\n",
    "\n",
    "  return new_series.sample(n=forecast_days,replace=True).reset_index(drop=True)"
   ]
  },
  {
   "cell_type": "code",
   "execution_count": 20,
   "metadata": {},
   "outputs": [],
   "source": [
    "def simulate_modified_portfolio(historical_returns,composition,forecast_days):\n",
    "  result = 0\n",
    "  for t in composition:\n",
    "    name,weight,correction = t[0],t[1],t[2]\n",
    "    s = simulate_modified_returns(historical_returns['return_%s' % (name)], forecast_days,correction)\n",
    "    result = result + s * weight\n",
    "  \n",
    "  return(result)"
   ]
  },
  {
   "cell_type": "code",
   "execution_count": 21,
   "metadata": {},
   "outputs": [],
   "source": [
    "def simulation(historical_returns,composition,forecast_days,n_iterations):\n",
    "  simulated_portfolios = None\n",
    "\n",
    "  for i in range(n_iterations):\n",
    "    sim = simulate_modified_portfolio(historical_returns,composition,forecast_days)\n",
    "\n",
    "    sim_port = pd.DataFrame({'returns_%d' % (i) : sim})\n",
    "\n",
    "    if simulated_portfolios is None:\n",
    "      simulated_portfolios = sim_port\n",
    "    else:\n",
    "      simulated_portfolios = simulated_portfolios.join(sim_port)\n",
    "    \n",
    "  return simulated_portfolios"
   ]
  },
  {
   "cell_type": "code",
   "execution_count": 22,
   "metadata": {},
   "outputs": [
    {
     "data": {
      "text/plain": [
       "return_MSFT    0.000851\n",
       "return_AAPL    0.001090\n",
       "return_GOOG    0.000700\n",
       "dtype: float64"
      ]
     },
     "execution_count": 22,
     "metadata": {},
     "output_type": "execute_result"
    }
   ],
   "source": [
    "returns.mean(axis=0)"
   ]
  },
  {
   "cell_type": "code",
   "execution_count": 23,
   "metadata": {},
   "outputs": [],
   "source": [
    "portfolio_composition = [('MSFT', 0.5,-0.0001), ('AAPL', 0.2,-0.001), ('GOOG', 0.3,-0.0005)]"
   ]
  },
  {
   "cell_type": "code",
   "execution_count": 24,
   "metadata": {},
   "outputs": [],
   "source": [
    "\n",
    "forecast_days = 20\n",
    "n_iterations = 200"
   ]
  },
  {
   "cell_type": "code",
   "execution_count": 25,
   "metadata": {},
   "outputs": [],
   "source": [
    "simulated_portfolios = simulation(returns,portfolio_composition,forecast_days,n_iterations)"
   ]
  },
  {
   "cell_type": "code",
   "execution_count": 26,
   "metadata": {},
   "outputs": [
    {
     "data": {
      "text/html": [
       "<div>\n",
       "<style scoped>\n",
       "    .dataframe tbody tr th:only-of-type {\n",
       "        vertical-align: middle;\n",
       "    }\n",
       "\n",
       "    .dataframe tbody tr th {\n",
       "        vertical-align: top;\n",
       "    }\n",
       "\n",
       "    .dataframe thead th {\n",
       "        text-align: right;\n",
       "    }\n",
       "</style>\n",
       "<table border=\"1\" class=\"dataframe\">\n",
       "  <thead>\n",
       "    <tr style=\"text-align: right;\">\n",
       "      <th></th>\n",
       "      <th>returns_0</th>\n",
       "      <th>returns_1</th>\n",
       "      <th>returns_2</th>\n",
       "      <th>returns_3</th>\n",
       "      <th>returns_4</th>\n",
       "      <th>returns_5</th>\n",
       "      <th>returns_6</th>\n",
       "      <th>returns_7</th>\n",
       "      <th>returns_8</th>\n",
       "      <th>returns_9</th>\n",
       "      <th>...</th>\n",
       "      <th>returns_190</th>\n",
       "      <th>returns_191</th>\n",
       "      <th>returns_192</th>\n",
       "      <th>returns_193</th>\n",
       "      <th>returns_194</th>\n",
       "      <th>returns_195</th>\n",
       "      <th>returns_196</th>\n",
       "      <th>returns_197</th>\n",
       "      <th>returns_198</th>\n",
       "      <th>returns_199</th>\n",
       "    </tr>\n",
       "  </thead>\n",
       "  <tbody>\n",
       "    <tr>\n",
       "      <th>0</th>\n",
       "      <td>0.002682</td>\n",
       "      <td>-0.007465</td>\n",
       "      <td>0.005987</td>\n",
       "      <td>-0.005620</td>\n",
       "      <td>0.002049</td>\n",
       "      <td>-0.010955</td>\n",
       "      <td>0.001253</td>\n",
       "      <td>-0.005633</td>\n",
       "      <td>0.009124</td>\n",
       "      <td>-0.001602</td>\n",
       "      <td>...</td>\n",
       "      <td>-0.004929</td>\n",
       "      <td>-0.001724</td>\n",
       "      <td>0.010461</td>\n",
       "      <td>0.008261</td>\n",
       "      <td>0.000879</td>\n",
       "      <td>0.004388</td>\n",
       "      <td>0.009708</td>\n",
       "      <td>0.005418</td>\n",
       "      <td>0.008088</td>\n",
       "      <td>0.000194</td>\n",
       "    </tr>\n",
       "    <tr>\n",
       "      <th>1</th>\n",
       "      <td>0.005706</td>\n",
       "      <td>0.008084</td>\n",
       "      <td>0.006165</td>\n",
       "      <td>0.014755</td>\n",
       "      <td>-0.001904</td>\n",
       "      <td>0.006487</td>\n",
       "      <td>-0.029053</td>\n",
       "      <td>-0.004354</td>\n",
       "      <td>-0.011453</td>\n",
       "      <td>-0.005932</td>\n",
       "      <td>...</td>\n",
       "      <td>0.005039</td>\n",
       "      <td>0.000574</td>\n",
       "      <td>-0.022648</td>\n",
       "      <td>0.004371</td>\n",
       "      <td>-0.018504</td>\n",
       "      <td>0.000556</td>\n",
       "      <td>0.008134</td>\n",
       "      <td>-0.004241</td>\n",
       "      <td>0.007680</td>\n",
       "      <td>0.000135</td>\n",
       "    </tr>\n",
       "    <tr>\n",
       "      <th>2</th>\n",
       "      <td>0.001857</td>\n",
       "      <td>0.005279</td>\n",
       "      <td>0.025864</td>\n",
       "      <td>-0.001798</td>\n",
       "      <td>0.014983</td>\n",
       "      <td>-0.001289</td>\n",
       "      <td>0.000705</td>\n",
       "      <td>-0.000230</td>\n",
       "      <td>-0.002716</td>\n",
       "      <td>0.001714</td>\n",
       "      <td>...</td>\n",
       "      <td>-0.002568</td>\n",
       "      <td>-0.000926</td>\n",
       "      <td>-0.004395</td>\n",
       "      <td>0.004887</td>\n",
       "      <td>0.011789</td>\n",
       "      <td>-0.001754</td>\n",
       "      <td>-0.013909</td>\n",
       "      <td>-0.004703</td>\n",
       "      <td>-0.015310</td>\n",
       "      <td>-0.011376</td>\n",
       "    </tr>\n",
       "    <tr>\n",
       "      <th>3</th>\n",
       "      <td>-0.012406</td>\n",
       "      <td>0.004375</td>\n",
       "      <td>-0.004637</td>\n",
       "      <td>0.000759</td>\n",
       "      <td>-0.011705</td>\n",
       "      <td>0.002819</td>\n",
       "      <td>-0.004440</td>\n",
       "      <td>0.011424</td>\n",
       "      <td>-0.036393</td>\n",
       "      <td>-0.000749</td>\n",
       "      <td>...</td>\n",
       "      <td>-0.003474</td>\n",
       "      <td>-0.003124</td>\n",
       "      <td>-0.003786</td>\n",
       "      <td>0.000663</td>\n",
       "      <td>-0.009390</td>\n",
       "      <td>0.002163</td>\n",
       "      <td>0.008308</td>\n",
       "      <td>0.016636</td>\n",
       "      <td>-0.004272</td>\n",
       "      <td>0.002400</td>\n",
       "    </tr>\n",
       "    <tr>\n",
       "      <th>4</th>\n",
       "      <td>-0.017223</td>\n",
       "      <td>-0.000135</td>\n",
       "      <td>0.011837</td>\n",
       "      <td>0.004018</td>\n",
       "      <td>-0.004206</td>\n",
       "      <td>0.004822</td>\n",
       "      <td>-0.002636</td>\n",
       "      <td>0.007401</td>\n",
       "      <td>0.005649</td>\n",
       "      <td>0.001557</td>\n",
       "      <td>...</td>\n",
       "      <td>0.001730</td>\n",
       "      <td>-0.004367</td>\n",
       "      <td>0.004694</td>\n",
       "      <td>0.005144</td>\n",
       "      <td>0.009574</td>\n",
       "      <td>-0.001019</td>\n",
       "      <td>-0.014781</td>\n",
       "      <td>-0.006905</td>\n",
       "      <td>0.018890</td>\n",
       "      <td>-0.005947</td>\n",
       "    </tr>\n",
       "  </tbody>\n",
       "</table>\n",
       "<p>5 rows × 200 columns</p>\n",
       "</div>"
      ],
      "text/plain": [
       "   returns_0  returns_1  returns_2  returns_3  returns_4  returns_5  \\\n",
       "0   0.002682  -0.007465   0.005987  -0.005620   0.002049  -0.010955   \n",
       "1   0.005706   0.008084   0.006165   0.014755  -0.001904   0.006487   \n",
       "2   0.001857   0.005279   0.025864  -0.001798   0.014983  -0.001289   \n",
       "3  -0.012406   0.004375  -0.004637   0.000759  -0.011705   0.002819   \n",
       "4  -0.017223  -0.000135   0.011837   0.004018  -0.004206   0.004822   \n",
       "\n",
       "   returns_6  returns_7  returns_8  returns_9  ...  returns_190  returns_191  \\\n",
       "0   0.001253  -0.005633   0.009124  -0.001602  ...    -0.004929    -0.001724   \n",
       "1  -0.029053  -0.004354  -0.011453  -0.005932  ...     0.005039     0.000574   \n",
       "2   0.000705  -0.000230  -0.002716   0.001714  ...    -0.002568    -0.000926   \n",
       "3  -0.004440   0.011424  -0.036393  -0.000749  ...    -0.003474    -0.003124   \n",
       "4  -0.002636   0.007401   0.005649   0.001557  ...     0.001730    -0.004367   \n",
       "\n",
       "   returns_192  returns_193  returns_194  returns_195  returns_196  \\\n",
       "0     0.010461     0.008261     0.000879     0.004388     0.009708   \n",
       "1    -0.022648     0.004371    -0.018504     0.000556     0.008134   \n",
       "2    -0.004395     0.004887     0.011789    -0.001754    -0.013909   \n",
       "3    -0.003786     0.000663    -0.009390     0.002163     0.008308   \n",
       "4     0.004694     0.005144     0.009574    -0.001019    -0.014781   \n",
       "\n",
       "   returns_197  returns_198  returns_199  \n",
       "0     0.005418     0.008088     0.000194  \n",
       "1    -0.004241     0.007680     0.000135  \n",
       "2    -0.004703    -0.015310    -0.011376  \n",
       "3     0.016636    -0.004272     0.002400  \n",
       "4    -0.006905     0.018890    -0.005947  \n",
       "\n",
       "[5 rows x 200 columns]"
      ]
     },
     "execution_count": 26,
     "metadata": {},
     "output_type": "execute_result"
    }
   ],
   "source": [
    "simulated_portfolios.head()"
   ]
  },
  {
   "cell_type": "code",
   "execution_count": 27,
   "metadata": {},
   "outputs": [],
   "source": [
    "percentile_5th = simulated_portfolios.cumsum().apply(lambda x : np.percentile(x,5),axis=1)\n",
    "percentile_95th = simulated_portfolios.cumsum().apply(lambda x : np.percentile(x,95),axis=1)\n",
    "average_port = simulated_portfolios.cumsum().apply(lambda x : np.mean(x),axis=1)"
   ]
  },
  {
   "cell_type": "code",
   "execution_count": 28,
   "metadata": {},
   "outputs": [
    {
     "name": "stdout",
     "output_type": "stream",
     "text": [
      "19   -0.049674\n",
      "dtype: float64\n",
      "19    0.077564\n",
      "dtype: float64\n",
      "19    0.012598\n",
      "dtype: float64\n"
     ]
    }
   ],
   "source": [
    "print(percentile_5th.tail(1))\n",
    "print(percentile_95th.tail(1))\n",
    "print(average_port.tail(1))"
   ]
  },
  {
   "cell_type": "code",
   "execution_count": 33,
   "metadata": {},
   "outputs": [
    {
     "data": {
      "image/png": "[encoded data removed]",
      "text/plain": [
       "<Figure size 720x720 with 1 Axes>"
      ]
     },
     "metadata": {
      "needs_background": "light"
     },
     "output_type": "display_data"
    }
   ],
   "source": [
    "#Confidence interval for future portfolios¶\n",
    "x = range(forecast_days)\n",
    "\n",
    "plt.rcParams['figure.figsize'] = [10, 10]\n",
    "\n",
    "plt.plot(x,average_port,label=\"Average portfolio\")\n",
    "plt.xlabel(\"Day\")\n",
    "plt.ylabel(\"Portfolio return\")\n",
    "\n",
    "\n",
    "plt.fill_between(x, percentile_5th, percentile_95th,alpha=0.2)\n",
    "plt.grid()\n",
    "plt.legend()\n",
    "\n",
    "plt.show()"
   ]
  },
  {
   "cell_type": "code",
   "execution_count": 35,
   "metadata": {},
   "outputs": [],
   "source": [
    "#Probability of beating the portfolio target"
   ]
  },
  {
   "cell_type": "code",
   "execution_count": 36,
   "metadata": {},
   "outputs": [],
   "source": [
    "target_return = 0.02\n",
    "\n",
    "target_prob_port = simulated_portfolios.cumsum().apply(lambda x : np.mean(x > target_return),axis=1)"
   ]
  },
  {
   "cell_type": "code",
   "execution_count": 37,
   "metadata": {},
   "outputs": [
    {
     "data": {
      "text/plain": [
       "19    0.435\n",
       "dtype: float64"
      ]
     },
     "execution_count": 37,
     "metadata": {},
     "output_type": "execute_result"
    }
   ],
   "source": [
    "target_prob_port.tail(1)"
   ]
  },
  {
   "cell_type": "code",
   "execution_count": 38,
   "metadata": {},
   "outputs": [],
   "source": [
    "err_bars = np.sqrt(target_prob_port*(1-target_prob_port)/n_iterations)"
   ]
  },
  {
   "cell_type": "code",
   "execution_count": 40,
   "metadata": {},
   "outputs": [
    {
     "data": {
      "text/plain": [
       "19    0.035055\n",
       "dtype: float64"
      ]
     },
     "execution_count": 40,
     "metadata": {},
     "output_type": "execute_result"
    }
   ],
   "source": [
    "err_bars.tail(1)"
   ]
  },
  {
   "cell_type": "code",
   "execution_count": 41,
   "metadata": {},
   "outputs": [
    {
     "data": {
      "image/png": "[encoded data removed]",
      "text/plain": [
       "<Figure size 720x720 with 1 Axes>"
      ]
     },
     "metadata": {
      "needs_background": "light"
     },
     "output_type": "display_data"
    }
   ],
   "source": [
    "x = range(forecast_days)\n",
    "\n",
    "plt.rcParams['figure.figsize'] = [10, 10]\n",
    "\n",
    "plt.bar(x,target_prob_port,yerr = err_bars)\n",
    "\n",
    "plt.xlabel(\"Day\")\n",
    "plt.ylabel(\"Probability of return >= %.2f\" % (target_return))\n",
    "\n",
    "plt.grid()\n",
    "\n",
    "plt.show()"
   ]
  },
  {
   "cell_type": "code",
   "execution_count": 43,
   "metadata": {},
   "outputs": [],
   "source": [
    "#Sharpe ratio histogram"
   ]
  },
  {
   "cell_type": "code",
   "execution_count": 44,
   "metadata": {},
   "outputs": [],
   "source": [
    "sharpe_indices = simulated_portfolios.apply(lambda x : np.mean(x)/np.std(x))"
   ]
  },
  {
   "cell_type": "code",
   "execution_count": 45,
   "metadata": {},
   "outputs": [
    {
     "data": {
      "image/png": "[encoded data removed]",
      "text/plain": [
       "<Figure size 720x720 with 1 Axes>"
      ]
     },
     "metadata": {
      "needs_background": "light"
     },
     "output_type": "display_data"
    }
   ],
   "source": [
    "plt.hist(sharpe_indices,bins=\"rice\")\n",
    "plt.xlabel(\"Sharpe ratio\")\n",
    "\n",
    "plt.show()"
   ]
  },
  {
   "cell_type": "code",
   "execution_count": 46,
   "metadata": {},
   "outputs": [
    {
     "data": {
      "text/plain": [
       "0.06958054951875808"
      ]
     },
     "execution_count": 46,
     "metadata": {},
     "output_type": "execute_result"
    }
   ],
   "source": [
    "np.mean(sharpe_indices)"
   ]
  },
  {
   "cell_type": "code",
   "execution_count": null,
   "metadata": {},
   "outputs": [],
   "source": []
  }
 ],
 "metadata": {
  "kernelspec": {
   "display_name": "Python 3",
   "language": "python",
   "name": "python3"
  },
  "language_info": {
   "codemirror_mode": {
    "name": "ipython",
    "version": 3
   },
   "file_extension": ".py",
   "mimetype": "text/x-python",
   "name": "python",
   "nbconvert_exporter": "python",
   "pygments_lexer": "ipython3",
   "version": "3.7.3"
  }
 },
 "nbformat": 4,
 "nbformat_minor": 2
}
