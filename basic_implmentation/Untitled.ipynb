{
 "cells": [
  {
   "cell_type": "code",
   "execution_count": 13,
   "metadata": {},
   "outputs": [],
   "source": [
    "import numpy as np\n",
    "import datetime as dt\n",
    "#from calculator import risk_return_calculator\n",
    "\n",
    "PriceEvent = 'Adj Close'\n",
    "ReturnType = 'Geometric'\n",
    "NumberOfPortfolios = 10000\n",
    "YearsToGoBack = 3\n",
    "API = 'yahoo'\n",
    "RiskFreeRate = 0\n",
    "CompanyFetchMode = \"PreFixed\" #Auto\n",
    "MyCompanies = ['ZM','UBER','SWI','RNG','CRWD', 'WORK', 'SYMC']\n",
    "PortfolioOptimisationPath = 'Sampe_PortfolioOptimisation.xlsx'\n",
    "# RiskFunction = risk_return_calculator.calculate_portfolio_risk\n",
    "# ReturnFunction = risk_return_calculator.calculate_portfolio_expectedreturns\n",
    "# AssetsExpectedReturnsFunction = risk_return_calculator.calculate_assets_expectedreturns\n",
    "# AssetsCovarianceFunction = risk_return_calculator.calculate_assets_covariance\n",
    "# DailyAssetsReturnsFunction = risk_return_calculator.calculate_daily_asset_returns\n",
    "# @staticmethod\n",
    "#     def get_my_targets(min_risk):\n",
    "#         return np.arange(min_risk, 1.5, 0.05)\n",
    "# @staticmethod\n",
    "end_date =  dt.date.today()\n",
    "# @staticmethod\n",
    "#     def get_start_date(end_date):\n",
    "start_date = end_date - dt.timedelta(days=YearsToGoBack*365)"
   ]
  },
  {
   "cell_type": "code",
   "execution_count": 31,
   "metadata": {},
   "outputs": [
    {
     "name": "stdout",
     "output_type": "stream",
     "text": [
      "Initialised Price Extractor\n"
     ]
    },
    {
     "ename": "TypeError",
     "evalue": "'price_extractor' object is not subscriptable",
     "output_type": "error",
     "traceback": [
      "\u001b[0;31m---------------------------------------------------------------------------\u001b[0m",
      "\u001b[0;31mTypeError\u001b[0m                                 Traceback (most recent call last)",
      "\u001b[0;32m<ipython-input-31-2adae2544d89>\u001b[0m in \u001b[0;36m<module>\u001b[0;34m\u001b[0m\n\u001b[1;32m     31\u001b[0m         \u001b[0;32mreturn\u001b[0m \u001b[0mprices\u001b[0m\u001b[0;34m\u001b[0m\u001b[0;34m\u001b[0m\u001b[0m\n\u001b[1;32m     32\u001b[0m \u001b[0m__companies\u001b[0m \u001b[0;34m=\u001b[0m \u001b[0mget_price_extractor\u001b[0m\u001b[0;34m(\u001b[0m\u001b[0mAPI\u001b[0m\u001b[0;34m,\u001b[0m \u001b[0mMyCompanies\u001b[0m\u001b[0;34m)\u001b[0m\u001b[0;34m\u001b[0m\u001b[0;34m\u001b[0m\u001b[0m\n\u001b[0;32m---> 33\u001b[0;31m \u001b[0mget_prices\u001b[0m\u001b[0;34m(\u001b[0m\u001b[0mstart_date\u001b[0m\u001b[0;34m,\u001b[0m \u001b[0mend_date\u001b[0m\u001b[0;34m)\u001b[0m\u001b[0;34m\u001b[0m\u001b[0;34m\u001b[0m\u001b[0m\n\u001b[0m",
      "\u001b[0;32m<ipython-input-31-2adae2544d89>\u001b[0m in \u001b[0;36mget_prices\u001b[0;34m(start_date, end_date)\u001b[0m\n\u001b[1;32m     19\u001b[0m \u001b[0;32mdef\u001b[0m \u001b[0mget_prices\u001b[0m\u001b[0;34m(\u001b[0m \u001b[0mstart_date\u001b[0m\u001b[0;34m,\u001b[0m \u001b[0mend_date\u001b[0m\u001b[0;34m)\u001b[0m\u001b[0;34m:\u001b[0m\u001b[0;34m\u001b[0m\u001b[0;34m\u001b[0m\u001b[0m\n\u001b[1;32m     20\u001b[0m         \u001b[0mprices\u001b[0m \u001b[0;34m=\u001b[0m \u001b[0mpd\u001b[0m\u001b[0;34m.\u001b[0m\u001b[0mDataFrame\u001b[0m\u001b[0;34m(\u001b[0m\u001b[0;34m)\u001b[0m\u001b[0;34m\u001b[0m\u001b[0;34m\u001b[0m\u001b[0m\n\u001b[0;32m---> 21\u001b[0;31m         \u001b[0msymbols\u001b[0m \u001b[0;34m=\u001b[0m \u001b[0m__companies\u001b[0m\u001b[0;34m[\u001b[0m\u001b[0;34m'Ticker'\u001b[0m\u001b[0;34m]\u001b[0m\u001b[0;34m\u001b[0m\u001b[0;34m\u001b[0m\u001b[0m\n\u001b[0m\u001b[1;32m     22\u001b[0m         \u001b[0mtmp\u001b[0m\u001b[0;34m=\u001b[0m\u001b[0;34m{\u001b[0m\u001b[0;34m}\u001b[0m\u001b[0;34m\u001b[0m\u001b[0;34m\u001b[0m\u001b[0m\n\u001b[1;32m     23\u001b[0m         \u001b[0;32mfor\u001b[0m \u001b[0mi\u001b[0m \u001b[0;32min\u001b[0m \u001b[0msymbols\u001b[0m\u001b[0;34m:\u001b[0m\u001b[0;34m\u001b[0m\u001b[0;34m\u001b[0m\u001b[0m\n",
      "\u001b[0;31mTypeError\u001b[0m: 'price_extractor' object is not subscriptable"
     ]
    }
   ],
   "source": [
    "# Get data\n",
    "#!pip3 install pandas_datareader\n",
    "\n",
    "class static_companies_extractor:\n",
    "    def __init__(self, my_companies):\n",
    "        self.__my_companies = my_companies\n",
    "\n",
    "    def get_companies_list(self, current_portfolio=None):\n",
    "        return pd.DataFrame({'Ticker':self.__my_companies})\n",
    "\n",
    "__companies = static_companies_extractor(MyCompanies)\n",
    "import pandas_datareader.data as web\n",
    "import pandas as pd\n",
    "\n",
    "\n",
    "def get_price_extractor( API,  companies):\n",
    "        return price_extractor(API, companies)\n",
    "\n",
    "def get_prices( start_date, end_date):\n",
    "        prices = pd.DataFrame()\n",
    "        symbols = __companies['Ticker']\n",
    "        tmp={}\n",
    "        for i in symbols:\n",
    "            try:\n",
    "                tmp = web.DataReader(i, API, start_date, end_date)\n",
    "                print('Fetched prices for: '+i)                \n",
    "            except:\n",
    "                print('Issue getting prices for: '+i)\n",
    "            else:\n",
    "                prices[i] = tmp[event]            \n",
    "        return prices\n",
    "__companies = get_price_extractor(API, MyCompanies)\n",
    "get_prices(start_date, end_date)"
   ]
  },
  {
   "cell_type": "code",
   "execution_count": null,
   "metadata": {},
   "outputs": [],
   "source": []
  }
 ],
 "metadata": {
  "kernelspec": {
   "display_name": "Python 3",
   "language": "python",
   "name": "python3"
  },
  "language_info": {
   "codemirror_mode": {
    "name": "ipython",
    "version": 3
   },
   "file_extension": ".py",
   "mimetype": "text/x-python",
   "name": "python",
   "nbconvert_exporter": "python",
   "pygments_lexer": "ipython3",
   "version": "3.7.3"
  }
 },
 "nbformat": 4,
 "nbformat_minor": 2
}
